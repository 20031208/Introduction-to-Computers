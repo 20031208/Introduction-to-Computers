{
  "nbformat": 4,
  "nbformat_minor": 0,
  "metadata": {
    "colab": {
      "provenance": [],
      "include_colab_link": true
    },
    "kernelspec": {
      "name": "python3",
      "display_name": "Python 3"
    },
    "language_info": {
      "name": "python"
    }
  },
  "cells": [
    {
      "cell_type": "markdown",
      "metadata": {
        "id": "view-in-github",
        "colab_type": "text"
      },
      "source": [
        "<a href=\"https://colab.research.google.com/github/20031208/Introduction-to-Computers/blob/main/411650467%E7%B5%B1%E8%A8%88%E6%9C%9F%E4%B8%AD%E8%80%83%E9%A1%8C.ipynb\" target=\"_parent\"><img src=\"https://colab.research.google.com/assets/colab-badge.svg\" alt=\"Open In Colab\"/></a>"
      ]
    },
    {
      "cell_type": "code",
      "execution_count": 1,
      "metadata": {
        "colab": {
          "base_uri": "https://localhost:8080/"
        },
        "id": "9HKUVI86x2X-",
        "outputId": "6f9ef409-a3e0-45dd-e176-23d80ee6edf3"
      },
      "outputs": [
        {
          "output_type": "stream",
          "name": "stdout",
          "text": [
            "cindy\n",
            "cindy\n"
          ]
        }
      ],
      "source": [
        "#01\n",
        "name=input()\n",
        "print(name)"
      ]
    },
    {
      "cell_type": "code",
      "source": [
        "#02\n",
        "N=int(input())\n",
        "totalA=0\n",
        "for i in range(10,N+1):\n",
        "  totalA += i\n",
        "print(totalA)"
      ],
      "metadata": {
        "colab": {
          "base_uri": "https://localhost:8080/"
        },
        "id": "yXPi7eAU0KDd",
        "outputId": "bdf51c79-2ed7-43b5-904a-52f5ac46282f"
      },
      "execution_count": 2,
      "outputs": [
        {
          "output_type": "stream",
          "name": "stdout",
          "text": [
            "15\n",
            "75\n"
          ]
        }
      ]
    },
    {
      "cell_type": "code",
      "source": [
        "#03\n",
        "str=input()\n",
        "print(len(str))"
      ],
      "metadata": {
        "colab": {
          "base_uri": "https://localhost:8080/"
        },
        "id": "Ow0yCcMQyNu_",
        "outputId": "b2b6ebeb-51d8-474c-cdfd-c3ed79b239d0"
      },
      "execution_count": 3,
      "outputs": [
        {
          "output_type": "stream",
          "name": "stdout",
          "text": [
            "hello python\n",
            "12\n"
          ]
        }
      ]
    },
    {
      "cell_type": "code",
      "source": [
        "#04\n",
        "h,w=input().split(' ')\n",
        "int_h=int(h)\n",
        "int_w=int(w)\n",
        "h_a=int_h/100\n",
        "bmi=int_w/h_a**2\n",
        "print(\"%.2f\" % bmi)"
      ],
      "metadata": {
        "colab": {
          "base_uri": "https://localhost:8080/"
        },
        "id": "iwFwjyjXzU0I",
        "outputId": "5f70188a-22e8-48f1-9081-18fa3ff09d9d"
      },
      "execution_count": 6,
      "outputs": [
        {
          "output_type": "stream",
          "name": "stdout",
          "text": [
            "162 49\n",
            "18.67\n"
          ]
        }
      ]
    }
  ]
}