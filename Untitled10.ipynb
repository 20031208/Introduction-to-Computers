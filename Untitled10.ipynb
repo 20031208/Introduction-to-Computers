{
  "nbformat": 4,
  "nbformat_minor": 0,
  "metadata": {
    "colab": {
      "provenance": [],
      "authorship_tag": "ABX9TyPH/pqxUxpkfxK44aJzE/0c",
      "include_colab_link": true
    },
    "kernelspec": {
      "name": "python3",
      "display_name": "Python 3"
    },
    "language_info": {
      "name": "python"
    }
  },
  "cells": [
    {
      "cell_type": "markdown",
      "metadata": {
        "id": "view-in-github",
        "colab_type": "text"
      },
      "source": [
        "<a href=\"https://colab.research.google.com/github/20031208/Introduction-to-Computers/blob/main/Untitled10.ipynb\" target=\"_parent\"><img src=\"https://colab.research.google.com/assets/colab-badge.svg\" alt=\"Open In Colab\"/></a>"
      ]
    },
    {
      "cell_type": "code",
      "execution_count": 1,
      "metadata": {
        "id": "Q7JLxjLS-5cW"
      },
      "outputs": [],
      "source": [
        "list1 = range(0,9)"
      ]
    },
    {
      "cell_type": "code",
      "source": [
        "list(list1)"
      ],
      "metadata": {
        "colab": {
          "base_uri": "https://localhost:8080/"
        },
        "id": "sGlxr0Kw_kGo",
        "outputId": "24f5302b-8f60-4a8e-f855-c7d9f4e12970"
      },
      "execution_count": 2,
      "outputs": [
        {
          "output_type": "execute_result",
          "data": {
            "text/plain": [
              "[0, 1, 2, 3, 4, 5, 6, 7, 8]"
            ]
          },
          "metadata": {},
          "execution_count": 2
        }
      ]
    },
    {
      "cell_type": "code",
      "source": [
        "list2 = range(1,10)"
      ],
      "metadata": {
        "id": "M-Ggs01v_0y9"
      },
      "execution_count": 3,
      "outputs": []
    },
    {
      "cell_type": "code",
      "source": [
        "list(list2)"
      ],
      "metadata": {
        "colab": {
          "base_uri": "https://localhost:8080/"
        },
        "id": "JdEeHQtP_1Gg",
        "outputId": "3c5cebb3-930c-42fb-f014-ebe721b95697"
      },
      "execution_count": 4,
      "outputs": [
        {
          "output_type": "execute_result",
          "data": {
            "text/plain": [
              "[1, 2, 3, 4, 5, 6, 7, 8, 9]"
            ]
          },
          "metadata": {},
          "execution_count": 4
        }
      ]
    },
    {
      "cell_type": "code",
      "source": [
        "list3 = range(1,10,2)"
      ],
      "metadata": {
        "id": "9nh5Cmv8_-5V"
      },
      "execution_count": 5,
      "outputs": []
    },
    {
      "cell_type": "code",
      "source": [
        "list(list3)"
      ],
      "metadata": {
        "colab": {
          "base_uri": "https://localhost:8080/"
        },
        "id": "CbYTLjP2_-8z",
        "outputId": "d589aca9-dd31-45b1-a147-9009fcb1e6a7"
      },
      "execution_count": 6,
      "outputs": [
        {
          "output_type": "execute_result",
          "data": {
            "text/plain": [
              "[1, 3, 5, 7, 9]"
            ]
          },
          "metadata": {},
          "execution_count": 6
        }
      ]
    },
    {
      "cell_type": "code",
      "source": [
        "list4 = range(10,1,-2)"
      ],
      "metadata": {
        "id": "osKqC6LkAdW4"
      },
      "execution_count": 7,
      "outputs": []
    },
    {
      "cell_type": "code",
      "source": [
        "list(list4)"
      ],
      "metadata": {
        "colab": {
          "base_uri": "https://localhost:8080/"
        },
        "id": "mp0njWVzAdZR",
        "outputId": "c2abe5fd-8ba5-45b0-83b3-81efcfe1fcfa"
      },
      "execution_count": 8,
      "outputs": [
        {
          "output_type": "execute_result",
          "data": {
            "text/plain": [
              "[10, 8, 6, 4, 2]"
            ]
          },
          "metadata": {},
          "execution_count": 8
        }
      ]
    },
    {
      "cell_type": "code",
      "source": [
        "n = int(input(\"请输入一个正整数：\"))\n",
        "numbers = list(range(1, n+1))\n",
        "\n",
        "for num in numbers:\n",
        "    print(num, end=\" \")"
      ],
      "metadata": {
        "colab": {
          "base_uri": "https://localhost:8080/"
        },
        "id": "GjdCRO0t__Er",
        "outputId": "c97ad629-0be2-45df-e669-2bc5b4b06e31"
      },
      "execution_count": 14,
      "outputs": [
        {
          "output_type": "stream",
          "name": "stdout",
          "text": [
            "请输入一个正整数：5\n",
            "1 2 3 4 5 "
          ]
        }
      ]
    },
    {
      "cell_type": "code",
      "source": [
        "n = int(input(\"请输入一个正整数：\"))\n",
        "numbers = list(range(1, n+1))\n",
        "\n",
        "for num in numbers:\n",
        "    print(num, end=\" \")"
      ],
      "metadata": {
        "colab": {
          "base_uri": "https://localhost:8080/"
        },
        "id": "aaqj7KtAChuw",
        "outputId": "4e1f431f-ce85-494c-fde6-bec49b57cee6"
      },
      "execution_count": 15,
      "outputs": [
        {
          "output_type": "stream",
          "name": "stdout",
          "text": [
            "请输入一个正整数：12\n",
            "1 2 3 4 5 6 7 8 9 10 11 12 "
          ]
        }
      ]
    },
    {
      "cell_type": "code",
      "source": [
        "n = int(input(\"请输入一个正整数：\"))\n",
        "numbers = list(range(1, n+1))\n",
        "sum=0\n",
        "for n in range(1,n+1):\n",
        "  sum=sum+n\n",
        "print(\"1到\",n,\"的正整數和為\",sum)\n"
      ],
      "metadata": {
        "colab": {
          "base_uri": "https://localhost:8080/"
        },
        "id": "Yj1F2wZADWML",
        "outputId": "4f585554-cd6a-4f8b-9d83-bf5f74ca1489"
      },
      "execution_count": 20,
      "outputs": [
        {
          "output_type": "stream",
          "name": "stdout",
          "text": [
            "请输入一个正整数：10\n",
            "1到 10 的正整數和為 55\n"
          ]
        }
      ]
    },
    {
      "cell_type": "code",
      "source": [
        "n = int(input(\"请输入一个正整数：\"))\n",
        "numbers = list(range(1, n+1))\n",
        "sum=0\n",
        "for n in range(1,n+1):\n",
        "  sum=sum+n\n",
        "print(\"1到\",n,\"的正整數和為\",sum)\n"
      ],
      "metadata": {
        "colab": {
          "base_uri": "https://localhost:8080/"
        },
        "id": "roBdsgoBEps2",
        "outputId": "28bfce4e-d2d0-42b9-e452-5bba74774b05"
      },
      "execution_count": 21,
      "outputs": [
        {
          "output_type": "stream",
          "name": "stdout",
          "text": [
            "请输入一个正整数：50\n",
            "1到 50 的正整數和為 1275\n"
          ]
        }
      ]
    },
    {
      "cell_type": "code",
      "source": [
        "n = int(input(\"请输入一个正整数：\"))\n",
        "\n",
        "total = 0\n",
        "for i in range(1, n+1):\n",
        "    total += i\n",
        "    print(\"1到\", i, \"的正整数和为\", total)"
      ],
      "metadata": {
        "colab": {
          "base_uri": "https://localhost:8080/"
        },
        "id": "dP7sCuJYGLY9",
        "outputId": "0deb3ef4-2142-4159-96f2-3ce718cc1a35"
      },
      "execution_count": 25,
      "outputs": [
        {
          "output_type": "stream",
          "name": "stdout",
          "text": [
            "请输入一个正整数：10\n",
            "1到 1 的正整数和为 1\n",
            "1到 2 的正整数和为 3\n",
            "1到 3 的正整数和为 6\n",
            "1到 4 的正整数和为 10\n",
            "1到 5 的正整数和为 15\n",
            "1到 6 的正整数和为 21\n",
            "1到 7 的正整数和为 28\n",
            "1到 8 的正整数和为 36\n",
            "1到 9 的正整数和为 45\n",
            "1到 10 的正整数和为 55\n"
          ]
        }
      ]
    }
  ]
}